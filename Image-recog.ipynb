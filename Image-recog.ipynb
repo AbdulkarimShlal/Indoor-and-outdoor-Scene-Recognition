{
 "cells": [
  {
   "cell_type": "markdown",
   "id": "da498e06",
   "metadata": {},
   "source": [
    "# 1 Import Libraries"
   ]
  },
  {
   "cell_type": "code",
   "execution_count": 1,
   "id": "ce0322f7",
   "metadata": {},
   "outputs": [],
   "source": [
    "import tensorflow as tf\n",
    "from tensorflow.keras.models import Sequential\n",
    "from tensorflow.keras.layers import Conv2D, MaxPooling2D, Flatten, Dense, Dropout, BatchNormalization\n",
    "from tensorflow.keras.preprocessing.image import ImageDataGenerator\n",
    "from tensorflow.keras.preprocessing import image\n",
    "import matplotlib.pyplot as plt\n",
    "import os\n",
    "import random\n",
    "import numpy as np\n",
    "\n"
   ]
  },
  {
   "cell_type": "markdown",
   "id": "ed90223c",
   "metadata": {},
   "source": [
    "# 2 Preparing the data"
   ]
  },
  {
   "cell_type": "code",
   "execution_count": 2,
   "id": "7f4a72b7",
   "metadata": {},
   "outputs": [
    {
     "name": "stdout",
     "output_type": "stream",
     "text": [
      "Found 3349 images belonging to 2 classes.\n",
      "Found 3349 images belonging to 2 classes.\n"
     ]
    }
   ],
   "source": [
    "train_datagen = ImageDataGenerator(rescale=1./255,\n",
    "                                   rotation_range=40,\n",
    "                                   width_shift_range=0.2,\n",
    "                                   height_shift_range=0.2,\n",
    "                                   shear_range=0.2,\n",
    "                                   zoom_range=0.2,\n",
    "                                   horizontal_flip=True,\n",
    "                                   fill_mode='nearest')\n",
    " \n",
    "val_test_datagen = ImageDataGenerator(rescale=1./255)  # No augmentation for validation and test data\n",
    " \n",
    "train_generator = train_datagen.flow_from_directory(\n",
    "    'images/Train',\n",
    "    target_size=(150, 150),\n",
    "    batch_size=32,\n",
    "    class_mode='binary')\n",
    " \n",
    "validation_generator = val_test_datagen.flow_from_directory(\n",
    "    'images/Validation',\n",
    "    target_size=(150, 150),\n",
    "    batch_size=32,\n",
    "    class_mode='binary')\n",
    " \n",
    "test_generator = val_test_datagen.flow_from_directory(\n",
    "    'images/Test',\n",
    "    target_size=(150, 150),\n",
    "    batch_size=32,\n",
    "    class_mode='binary')\n"
   ]
  },
  {
   "cell_type": "markdown",
   "id": "6dee860e",
   "metadata": {},
   "source": [
    "# 3.1 Define Model"
   ]
  },
  {
   "cell_type": "code",
   "execution_count": 3,
   "id": "78c2ba58",
   "metadata": {},
   "outputs": [],
   "source": [
    "model = Sequential([\n",
    "    Conv2D(32, (3, 3), activation='relu', input_shape=(150, 150, 3)),\n",
    "    MaxPooling2D(2, 2),\n",
    "    Conv2D(64, (3, 3), activation='relu'),\n",
    "    MaxPooling2D(2, 2),\n",
    "    Conv2D(128, (3, 3), activation='relu'),\n",
    "    MaxPooling2D(2, 2),\n",
    "    Flatten(),\n",
    "    Dropout(0.5),\n",
    "    Dense(512, activation='relu'),\n",
    "    Dense(1, activation='sigmoid')\n",
    "])\n"
   ]
  },
  {
   "cell_type": "markdown",
   "id": "53c5a4db",
   "metadata": {},
   "source": [
    "# 3.6 Compiling the model"
   ]
  },
  {
   "cell_type": "code",
   "execution_count": 8,
   "id": "9628a3c9",
   "metadata": {},
   "outputs": [],
   "source": [
    "model.compile(optimizer='adam',\n",
    "              loss='binary_crossentropy',\n",
    "              metrics=['accuracy'])\n"
   ]
  },
  {
   "cell_type": "markdown",
   "id": "f0d9eea8",
   "metadata": {},
   "source": [
    "# 3.7 Review the model"
   ]
  },
  {
   "cell_type": "code",
   "execution_count": 9,
   "id": "68db0a4f",
   "metadata": {
    "scrolled": true
   },
   "outputs": [
    {
     "name": "stdout",
     "output_type": "stream",
     "text": [
      "Model: \"sequential\"\n",
      "_________________________________________________________________\n",
      " Layer (type)                Output Shape              Param #   \n",
      "=================================================================\n",
      " conv2d (Conv2D)             (None, 148, 148, 32)      896       \n",
      "                                                                 \n",
      " batch_normalization (Batch  (None, 148, 148, 32)      128       \n",
      " Normalization)                                                  \n",
      "                                                                 \n",
      " max_pooling2d (MaxPooling2  (None, 74, 74, 32)        0         \n",
      " D)                                                              \n",
      "                                                                 \n",
      " conv2d_1 (Conv2D)           (None, 72, 72, 64)        18496     \n",
      "                                                                 \n",
      " batch_normalization_1 (Bat  (None, 72, 72, 64)        256       \n",
      " chNormalization)                                                \n",
      "                                                                 \n",
      " max_pooling2d_1 (MaxPoolin  (None, 36, 36, 64)        0         \n",
      " g2D)                                                            \n",
      "                                                                 \n",
      " conv2d_2 (Conv2D)           (None, 34, 34, 128)       73856     \n",
      "                                                                 \n",
      " batch_normalization_2 (Bat  (None, 34, 34, 128)       512       \n",
      " chNormalization)                                                \n",
      "                                                                 \n",
      " max_pooling2d_2 (MaxPoolin  (None, 17, 17, 128)       0         \n",
      " g2D)                                                            \n",
      "                                                                 \n",
      " conv2d_3 (Conv2D)           (None, 15, 15, 256)       295168    \n",
      "                                                                 \n",
      " batch_normalization_3 (Bat  (None, 15, 15, 256)       1024      \n",
      " chNormalization)                                                \n",
      "                                                                 \n",
      " max_pooling2d_3 (MaxPoolin  (None, 7, 7, 256)         0         \n",
      " g2D)                                                            \n",
      "                                                                 \n",
      " flatten (Flatten)           (None, 12544)             0         \n",
      "                                                                 \n",
      " dense (Dense)               (None, 512)               6423040   \n",
      "                                                                 \n",
      " dropout (Dropout)           (None, 512)               0         \n",
      "                                                                 \n",
      " batch_normalization_4 (Bat  (None, 512)               2048      \n",
      " chNormalization)                                                \n",
      "                                                                 \n",
      " dense_1 (Dense)             (None, 1)                 513       \n",
      "                                                                 \n",
      "=================================================================\n",
      "Total params: 6815937 (26.00 MB)\n",
      "Trainable params: 6813953 (25.99 MB)\n",
      "Non-trainable params: 1984 (7.75 KB)\n",
      "_________________________________________________________________\n"
     ]
    }
   ],
   "source": [
    "model.summary()\n"
   ]
  },
  {
   "cell_type": "markdown",
   "id": "c3629353",
   "metadata": {},
   "source": [
    "# 4. Train the model"
   ]
  },
  {
   "cell_type": "code",
   "execution_count": 10,
   "id": "19af733f",
   "metadata": {},
   "outputs": [
    {
     "name": "stdout",
     "output_type": "stream",
     "text": [
      "Epoch 1/25\n",
      "104/104 - 109s - loss: 0.4057 - accuracy: 0.8426 - val_loss: 2.1243 - val_accuracy: 0.4916 - 109s/epoch - 1s/step\n",
      "Epoch 2/25\n",
      "104/104 - 95s - loss: 0.2527 - accuracy: 0.9047 - val_loss: 2.4443 - val_accuracy: 0.4928 - 95s/epoch - 911ms/step\n",
      "Epoch 3/25\n",
      "104/104 - 101s - loss: 0.2180 - accuracy: 0.9159 - val_loss: 0.5976 - val_accuracy: 0.6881 - 101s/epoch - 968ms/step\n",
      "Epoch 4/25\n",
      "104/104 - 90s - loss: 0.2120 - accuracy: 0.9174 - val_loss: 0.4097 - val_accuracy: 0.7921 - 90s/epoch - 866ms/step\n",
      "Epoch 5/25\n",
      "104/104 - 92s - loss: 0.1873 - accuracy: 0.9304 - val_loss: 0.1835 - val_accuracy: 0.9276 - 92s/epoch - 889ms/step\n",
      "Epoch 6/25\n",
      "104/104 - 95s - loss: 0.1750 - accuracy: 0.9301 - val_loss: 0.1431 - val_accuracy: 0.9492 - 95s/epoch - 911ms/step\n",
      "Epoch 7/25\n",
      "104/104 - 92s - loss: 0.1544 - accuracy: 0.9403 - val_loss: 0.1025 - val_accuracy: 0.9621 - 92s/epoch - 889ms/step\n",
      "Epoch 8/25\n",
      "104/104 - 97s - loss: 0.1499 - accuracy: 0.9433 - val_loss: 0.2022 - val_accuracy: 0.9189 - 97s/epoch - 932ms/step\n",
      "Epoch 9/25\n",
      "104/104 - 101s - loss: 0.1369 - accuracy: 0.9494 - val_loss: 0.2049 - val_accuracy: 0.9183 - 101s/epoch - 970ms/step\n",
      "Epoch 10/25\n",
      "104/104 - 103s - loss: 0.1585 - accuracy: 0.9457 - val_loss: 0.1966 - val_accuracy: 0.9309 - 103s/epoch - 992ms/step\n",
      "Epoch 11/25\n",
      "104/104 - 105s - loss: 0.1277 - accuracy: 0.9503 - val_loss: 0.1491 - val_accuracy: 0.9459 - 105s/epoch - 1s/step\n",
      "Epoch 12/25\n",
      "104/104 - 95s - loss: 0.1247 - accuracy: 0.9536 - val_loss: 0.0747 - val_accuracy: 0.9772 - 95s/epoch - 914ms/step\n",
      "Epoch 13/25\n",
      "104/104 - 93s - loss: 0.1119 - accuracy: 0.9572 - val_loss: 0.0674 - val_accuracy: 0.9778 - 93s/epoch - 894ms/step\n",
      "Epoch 14/25\n",
      "104/104 - 95s - loss: 0.1198 - accuracy: 0.9542 - val_loss: 0.1675 - val_accuracy: 0.9324 - 95s/epoch - 914ms/step\n",
      "Epoch 15/25\n",
      "104/104 - 94s - loss: 0.1139 - accuracy: 0.9584 - val_loss: 0.1527 - val_accuracy: 0.9396 - 94s/epoch - 906ms/step\n",
      "Epoch 16/25\n",
      "104/104 - 96s - loss: 0.1148 - accuracy: 0.9530 - val_loss: 0.5378 - val_accuracy: 0.8639 - 96s/epoch - 923ms/step\n",
      "Epoch 17/25\n",
      "104/104 - 93s - loss: 0.1200 - accuracy: 0.9518 - val_loss: 0.1324 - val_accuracy: 0.9468 - 93s/epoch - 898ms/step\n",
      "Epoch 18/25\n",
      "104/104 - 91s - loss: 0.1130 - accuracy: 0.9587 - val_loss: 0.0687 - val_accuracy: 0.9730 - 91s/epoch - 877ms/step\n",
      "Epoch 19/25\n",
      "104/104 - 91s - loss: 0.0958 - accuracy: 0.9623 - val_loss: 0.1395 - val_accuracy: 0.9426 - 91s/epoch - 870ms/step\n",
      "Epoch 20/25\n",
      "104/104 - 92s - loss: 0.0988 - accuracy: 0.9630 - val_loss: 0.5775 - val_accuracy: 0.7981 - 92s/epoch - 885ms/step\n",
      "Epoch 21/25\n",
      "104/104 - 94s - loss: 0.0969 - accuracy: 0.9620 - val_loss: 0.0826 - val_accuracy: 0.9706 - 94s/epoch - 903ms/step\n",
      "Epoch 22/25\n",
      "104/104 - 89s - loss: 0.0877 - accuracy: 0.9662 - val_loss: 0.0498 - val_accuracy: 0.9790 - 89s/epoch - 855ms/step\n",
      "Epoch 23/25\n",
      "104/104 - 89s - loss: 0.0860 - accuracy: 0.9677 - val_loss: 0.0611 - val_accuracy: 0.9781 - 89s/epoch - 857ms/step\n",
      "Epoch 24/25\n",
      "104/104 - 89s - loss: 0.0844 - accuracy: 0.9680 - val_loss: 0.0814 - val_accuracy: 0.9700 - 89s/epoch - 860ms/step\n",
      "Epoch 25/25\n",
      "104/104 - 94s - loss: 0.0748 - accuracy: 0.9726 - val_loss: 0.0955 - val_accuracy: 0.9591 - 94s/epoch - 905ms/step\n"
     ]
    }
   ],
   "source": [
    "history = model.fit(\n",
    "    train_generator,\n",
    "    steps_per_epoch=37,  # Updated based on your dataset\n",
    "    epochs=25,          # You can change this based on model performance\n",
    "    validation_data=validation_generator,\n",
    "    validation_steps=8, # Updated based on your dataset\n",
    "    verbose=2)\n"
   ]
  },
  {
   "cell_type": "markdown",
   "id": "7f12a565",
   "metadata": {},
   "source": [
    "# 5. Evaluate Model Perfomance "
   ]
  },
  {
   "cell_type": "code",
   "execution_count": 12,
   "id": "a82455da",
   "metadata": {},
   "outputs": [
    {
     "data": {
      "image/png": "[encoded data removed]",
      "text/plain": [
       "<Figure size 640x480 with 1 Axes>"
      ]
     },
     "metadata": {},
     "output_type": "display_data"
    },
    {
     "data": {
      "image/png": "[encoded data removed]",
      "text/plain": [
       "<Figure size 640x480 with 1 Axes>"
      ]
     },
     "metadata": {},
     "output_type": "display_data"
    }
   ],
   "source": [
    " \n",
    "# Plot training & validation accuracy values\n",
    "plt.plot(history.history['accuracy'])\n",
    "plt.plot(history.history['val_accuracy'])\n",
    "plt.scatter(len(history.history['accuracy']), test_accuracy, label='Test Accuracy', marker='o', color='red')\n",
    "plt.title('Model Accuracy')\n",
    "plt.ylabel('Accuracy')\n",
    "plt.xlabel('Epoch')\n",
    "plt.legend(['Train', 'Validation', 'Test'], loc='upper left')\n",
    "plt.show()\n",
    " \n",
    "# Plot training & validation loss values\n",
    "plt.plot(history.history['loss'])\n",
    "plt.plot(history.history['val_loss'])\n",
    "plt.scatter(len(history.history['loss']), test_loss, label='Test Loss', marker='o', color='red')\n",
    "plt.title('Model Loss')\n",
    "plt.ylabel('Loss')\n",
    "plt.xlabel('Epoch')\n",
    "plt.legend(['Train', 'Validation', 'Test'], loc='upper left')\n",
    "plt.show()"
   ]
  },
  {
   "cell_type": "markdown",
   "id": "68af6a57",
   "metadata": {},
   "source": [
    "# 6. Saving the model"
   ]
  },
  {
   "cell_type": "code",
   "execution_count": 15,
   "id": "7f06599b",
   "metadata": {},
   "outputs": [],
   "source": [
    "model.save('indoor_outdoor_model.keras')\n",
    "\n"
   ]
  },
  {
   "cell_type": "markdown",
   "id": "9ef18151",
   "metadata": {},
   "source": [
    "# 7. Making the predictions"
   ]
  },
  {
   "cell_type": "code",
   "execution_count": 19,
   "id": "2da22978",
   "metadata": {},
   "outputs": [
    {
     "name": "stdout",
     "output_type": "stream",
     "text": [
      "1/1 [==============================] - 0s 37ms/step\n",
      "The image at images/outdoor/Train/1897.jpg is outdoor.\n"
     ]
    }
   ],
   "source": [
    "def get_random_images_from_directory(directory, n=10):\n",
    "    all_files = []\n",
    "    for subdir in os.listdir(directory):\n",
    "        subdir_path = os.path.join(directory, subdir)\n",
    "        if os.path.isdir(subdir_path):\n",
    "            files = [os.path.join(subdir_path, file) for file in os.listdir(subdir_path) if file.lower().endswith(('png', 'jpg', 'jpeg'))]\n",
    "            all_files.extend(files)\n",
    "    return random.sample(all_files, n)\n",
    "def predict_and_visualize(image_paths, model):\n",
    "    for image_path in image_paths:\n",
    "        # Load and preprocess the image\n",
    "        img = image.load_img(image_path, target_size=(150, 150))\n",
    "        img_array = image.img_to_array(img) / 255.0\n",
    "        img_array_expanded = np.expand_dims(img_array, axis=0)\n",
    "        # Predict the class of the image\n",
    "        prediction = model.predict(img_array_expanded)\n",
    "        predicted_class = 'outdoor' if prediction[0] > 0.5 else 'indoor'\n",
    "        confidence = prediction[0] if predicted_class == 'outdoor' else 1 - prediction[0]\n",
    "        # Visualize the image and prediction\n",
    "        plt.imshow(img)\n",
    "        plt.title(f\"Predicted: {predicted_class} (Confidence: {confidence[0]:.2f})\")\n",
    "        plt.axis('off')\n",
    "        plt.show()\n",
    "# Assuming the directories are structured with 'Indoor' and 'Outdoor' subdirectories\n",
    "base_directories = ['images/Train', 'images/Validation', 'images/Test']\n",
    " \n",
    "# Get 10 random images from these directories\n",
    "random_images = []\n",
    "for base_dir in base_directories:\n",
    "    random_images.extend(get_random_images_from_directory(base_dir, n=3))  # Adjust n as needed to get a total of 10\n",
    "    \n",
    "    # Predict and visualize\n",
    "predict_and_visualize(random_images, model)\n"
   ]
  },
  {
   "cell_type": "code",
   "execution_count": null,
   "id": "e7785f69",
   "metadata": {},
   "outputs": [],
   "source": []
  }
 ],
 "metadata": {
  "kernelspec": {
   "display_name": "Python 3 (ipykernel)",
   "language": "python",
   "name": "python3"
  },
  "language_info": {
   "codemirror_mode": {
    "name": "ipython",
    "version": 3
   },
   "file_extension": ".py",
   "mimetype": "text/x-python",
   "name": "python",
   "nbconvert_exporter": "python",
   "pygments_lexer": "ipython3",
   "version": "3.11.4"
  }
 },
 "nbformat": 4,
 "nbformat_minor": 5
}
